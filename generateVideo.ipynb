{
 "cells": [
  {
   "cell_type": "markdown",
   "id": "6e021018",
   "metadata": {},
   "source": [
    "# This script generates a video from a series of thermal data"
   ]
  },
  {
   "cell_type": "markdown",
   "id": "d3748715",
   "metadata": {},
   "source": [
    "## Imports"
   ]
  },
  {
   "cell_type": "code",
   "execution_count": 1,
   "id": "ee59ee80",
   "metadata": {},
   "outputs": [],
   "source": [
    "import pandas as pd\n",
    "from InfluxDBInterface.libdb import download_tmp_DB\n",
    "import thermalutil as tu"
   ]
  },
  {
   "cell_type": "markdown",
   "id": "0eaaaeee",
   "metadata": {},
   "source": [
    "## Configuration"
   ]
  },
  {
   "cell_type": "code",
   "execution_count": 2,
   "id": "d8a7d75e",
   "metadata": {},
   "outputs": [],
   "source": [
    "# ==== GENERAL SETTINGS ====\n",
    "download_data = True   # Set to True to download data from InfluxDB, False to use data stored locally\n",
    "verbose = True          # Set to True to print progress messages\n",
    "\n",
    "# ==== LOCAL DATA CONFIGURATION ====\n",
    "if not download_data:\n",
    "    data_path = 'data/2025-10-09_10-13_influxdb_data.csv' # Path to the local .csv or .dat file containing the data\n",
    "    inhive_loc = 'lower' # inhive_loc value to filter data if multiple locations are present in the file\n",
    "\n",
    "# ==== DATA DOWNLOAD CONFIGURATION ====\n",
    "if download_data:\n",
    "    start_ts = pd.Timestamp('2025-10-03 14:00:00').tz_localize('UTC')\n",
    "    end_ts = pd.Timestamp('2025-10-09 15:50:00').tz_localize('UTC')\n",
    "    bucket = 'a_sensing' # InfluxDB bucket to download data from\n",
    "    data_res = 300 # resolution in seconds of the data. High resolutions will take longer to download\n",
    "    filters = {'hive_num': '1', 'inhive_loc':'lower'} # Filters used when downloading data\n",
    "\n",
    "# ==== VIDEO CONFIGURATION ====\n",
    "fps = 10 # frames per second of the video\n",
    "video_name = 'latest_data' # name of the output video file, without extension\n",
    "show_sensors = True     # show the sensor locations on the thermal frames\n",
    "show_cb = True          # show the colorbar on the thermal frames\n",
    "show_max_temp = True    # show maximum temperature\n",
    "contours = [] # list of temperature values (in °C) at which to draw contour lines. Put [] for automatic\n",
    "vmin = None # minimum temperature in °C for the colormap (put None for automatic)\n",
    "vmax = None # maximum temperature in °C for the colormap (put None for automatic)\n",
    "\n",
    "# ==== ABC CONFIGURATION ====\n",
    "faulty_sensors = [22] # list of sensor IDs that are faulty and should be ignored"
   ]
  },
  {
   "cell_type": "markdown",
   "id": "8b6e4872",
   "metadata": {},
   "source": [
    "## Main code"
   ]
  },
  {
   "cell_type": "code",
   "execution_count": 3,
   "id": "0ed39f2b",
   "metadata": {},
   "outputs": [
    {
     "name": "stdout",
     "output_type": "stream",
     "text": [
      "Downloaded 1748 data points from InfluxDB\n",
      "Temp dataframe with 1748 rows:\n",
      "                              t00        t01        t02        t03        t04        t05        t06        t07        t08        t09        t10        t11        t12        t13        t14        t15        t16        t17        t18        t19        t20        t21        t22        t23        t24        t25        t26        t27        t28        t29        t30        t31        t32        t33        t34        t35        t36        t37        t38        t39        t40        t41        t42        t43        t44        t45        t46        t47        t48        t49        t50        t51        t52        t53        t54        t55        t56        t57        t58        t59     t60  t61  t62  t63\n",
      "datetime                                                                                                                                                                                                                                                                                                                                                                                                                                                                                                                                                                                                                                                                                                                         \n",
      "2025-10-03 14:05:00+00:00  23.632812  21.968750  21.156250  20.750000  22.398438  24.265625  25.375000  24.265625  22.398438  21.382812  20.898438  21.437500  27.101562  25.960938  24.843750  23.828125  27.039062  26.242188  24.460938  22.703125  30.507812  30.867188  30.757812  27.851562  35.210938  34.039062  31.421875  29.109375  35.578125  30.710938  31.187500  35.687500  33.609375  34.007812  33.617188  34.453125  33.539062  34.500000  33.984375  33.500000  31.953125  35.421875  35.937500  34.820312  33.984375  35.335938  34.382812  30.968750  35.531250  33.671875  28.812500  29.125000  33.898438  29.945312  30.484375  34.625000  28.421875  28.453125  35.218750  35.304688 NaN  NaN  NaN  NaN \n",
      "2025-10-03 14:10:00+00:00  23.390625  22.179688  21.164062  20.679688  22.773438  24.242188  25.015625  23.859375  22.406250  21.390625  20.835938  21.437500  27.078125  26.015625  25.109375  23.804688  26.968750  26.218750  24.523438  22.789062  30.453125  30.851562  30.828125  27.890625  35.242188  34.000000  31.476562  29.101562  35.460938  30.757812  31.210938  35.648438  33.703125  34.070312  33.625000  34.429688  33.492188  34.359375  33.890625  33.429688  32.109375  35.343750  35.820312  34.742188  34.242188  35.351562  34.445312  31.070312  35.390625  33.570312  28.773438  29.203125  33.859375  29.968750  30.609375  34.671875  28.171875  28.343750  35.117188  35.054688 NaN  NaN  NaN  NaN \n",
      "2025-10-03 14:15:00+00:00  22.765625  21.882812  21.148438  20.679688  22.382812  23.406250  24.562500  23.500000  22.453125  21.484375  20.835938  21.414062  27.007812  26.085938  24.898438  23.664062  26.851562  26.210938  24.640625  22.953125  30.382812  30.820312  30.843750  28.015625  35.109375  33.937500  31.570312  29.125000  35.414062  30.843750  31.265625  35.429688  33.742188  34.039062  33.617188  34.343750  33.445312  34.273438  33.804688  33.367188  32.171875  35.296875  35.812500  34.648438  34.148438  35.359375  34.414062  31.078125  35.312500  33.218750  28.656250  29.312500  33.960938  30.039062  30.671875  34.679688  28.093750  28.289062  35.000000  35.281250 NaN  NaN  NaN  NaN \n",
      "2025-10-03 14:20:00+00:00  22.507812  21.734375  21.125000  20.687500  22.156250  23.085938  24.414062  23.343750  24.468750  23.179688  20.835938  21.359375  26.875000  25.960938  24.757812  23.875000  26.796875  26.445312  25.851562  24.679688  30.382812  30.804688  30.835938  28.078125  35.210938  33.929688  31.554688  29.101562  35.398438  30.859375  31.203125  35.437500  33.742188  34.039062  33.609375  34.367188  33.429688  34.273438  33.789062  33.359375  32.132812  35.351562  35.789062  34.671875  34.085938  35.218750  34.500000  31.132812  35.359375  33.562500  28.703125  29.289062  33.812500  30.164062  30.734375  34.593750  28.078125  28.187500  34.921875  35.265625 NaN  NaN  NaN  NaN \n",
      "2025-10-03 14:25:00+00:00  22.367188  21.632812  21.093750  20.695312  22.132812  22.921875  24.320312  23.273438  23.664062  22.500000  21.015625  21.523438  26.843750  25.929688  24.625000  23.890625  26.757812  26.609375  25.921875  23.968750  30.414062  30.906250  30.984375  28.164062  35.101562  33.984375  31.625000  29.078125  35.335938  30.796875  31.148438  35.398438  33.757812  34.054688  33.656250  34.359375  33.507812  34.320312  33.875000  33.421875  32.125000  35.257812  35.687500  34.664062  34.101562  35.109375  34.570312  31.226562  35.367188  33.718750  28.781250  29.281250  33.867188  30.265625  30.804688  34.750000  28.226562  28.226562  35.164062  35.320312 NaN  NaN  NaN  NaN \n"
     ]
    },
    {
     "name": "stderr",
     "output_type": "stream",
     "text": [
      "Generating frames…: 100%|██████████| 1750/1750 [02:50<00:00, 10.28it/s]\n"
     ]
    },
    {
     "name": "stdout",
     "output_type": "stream",
     "text": [
      "Writing video...\n"
     ]
    },
    {
     "name": "stderr",
     "output_type": "stream",
     "text": [
      "100%|██████████| 1750/1750 [00:04<00:00, 378.37it/s]\n"
     ]
    },
    {
     "name": "stdout",
     "output_type": "stream",
     "text": [
      "Video saved as latest_data.mp4\n"
     ]
    }
   ],
   "source": [
    "if download_data:\n",
    "    # Downloading data\n",
    "    tmp_df = download_tmp_DB(bucket, start_ts, end_ts, data_res,filters)\n",
    "    print(f\"Downloaded {len(tmp_df)} data points from InfluxDB\")\n",
    "else:\n",
    "    tmp_df , _ = tu.readFromFile(data_path)\n",
    "    print(f\"Loaded {len(tmp_df)} data points from {data_path}\")\n",
    "\n",
    "if verbose:\n",
    "    print(f\"Temp dataframe with {tmp_df.shape[0]} rows:\")\n",
    "    print(tmp_df.head())\n",
    "    \n",
    "# Generate video\n",
    "tu.generateThermalVideo(tmp_df, video_name, fps, show_cb=show_cb, show_sensors=show_sensors, show_max_temp=show_max_temp, vmin=vmin, faulty_s=faulty_sensors, vmax=vmax)\n",
    "print(f\"Video saved as {video_name}.mp4\")\n"
   ]
  }
 ],
 "metadata": {
  "kernelspec": {
   "display_name": "imaging",
   "language": "python",
   "name": "python3"
  },
  "language_info": {
   "codemirror_mode": {
    "name": "ipython",
    "version": 3
   },
   "file_extension": ".py",
   "mimetype": "text/x-python",
   "name": "python",
   "nbconvert_exporter": "python",
   "pygments_lexer": "ipython3",
   "version": "3.11.0"
  }
 },
 "nbformat": 4,
 "nbformat_minor": 5
}
