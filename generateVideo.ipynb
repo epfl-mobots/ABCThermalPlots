{
 "cells": [
  {
   "cell_type": "markdown",
   "id": "6e021018",
   "metadata": {},
   "source": [
    "# This script generates a video from a series of thermal data"
   ]
  },
  {
   "cell_type": "markdown",
   "id": "d3748715",
   "metadata": {},
   "source": [
    "## Imports"
   ]
  },
  {
   "cell_type": "code",
   "execution_count": 1,
   "id": "ee59ee80",
   "metadata": {},
   "outputs": [],
   "source": [
    "import pandas as pd\n",
    "from InfluxDBInterface.libdb import download_tmp_DB\n",
    "import thermalutil as tu"
   ]
  },
  {
   "cell_type": "markdown",
   "id": "0eaaaeee",
   "metadata": {},
   "source": [
    "## Configuration"
   ]
  },
  {
   "cell_type": "code",
   "execution_count": 4,
   "id": "d8a7d75e",
   "metadata": {},
   "outputs": [],
   "source": [
    "# ==== GENERAL SETTINGS ====\n",
    "download_data = False   # Set to True to download data from InfluxDB, False to use data stored locally\n",
    "verbose = True          # Set to True to print progress messages\n",
    "\n",
    "# ==== LOCAL DATA CONFIGURATION ====\n",
    "if not download_data:\n",
    "    data_path = 'data/2025-10-09_10-13_influxdb_data.csv' # Path to the local .csv or .dat file containing the data\n",
    "    inhive_loc = 'lower' # inhive_loc value to filter data if multiple locations are present in the file\n",
    "\n",
    "# ==== DATA DOWNLOAD CONFIGURATION ====\n",
    "if download_data:\n",
    "    start_ts = pd.Timestamp('2025-10-03 14:00:00').tz_localize('UTC')\n",
    "    end_ts = pd.Timestamp('2025-10-09 05:00:00').tz_localize('UTC')\n",
    "    bucket = 'a_sensing' # InfluxDB bucket to download data from\n",
    "    data_res = 180 # resolution in seconds of the data. High resolutions will take longer to download\n",
    "    filters = {'hive_num': '1', 'inhive_loc':'lower'} # Filters used when downloading data\n",
    "\n",
    "# ==== VIDEO CONFIGURATION ====\n",
    "fps = 10 # frames per second of the video\n",
    "video_name = 'thermal_video_local' # name of the output video file, without extension\n",
    "show_sensors = True # show the sensor locations on the thermal frames\n",
    "contours = [] # list of temperature values (in °C) at which to draw contour lines. Put [] for automatic\n",
    "vmin = None # minimum temperature in °C for the colormap (put None for automatic)\n",
    "vmax = None # maximum temperature in °C for the colormap (put None for automatic)\n",
    "\n",
    "# ==== ABC CONFIGURATION ====\n",
    "faulty_sensors = [22] # list of sensor IDs that are faulty and should be ignored"
   ]
  },
  {
   "cell_type": "markdown",
   "id": "8b6e4872",
   "metadata": {},
   "source": [
    "## Main code"
   ]
  },
  {
   "cell_type": "code",
   "execution_count": 5,
   "id": "0ed39f2b",
   "metadata": {},
   "outputs": [
    {
     "name": "stdout",
     "output_type": "stream",
     "text": [
      "Loaded 2946 data points from data/2025-10-09_10-13_influxdb_data.csv\n",
      "Temp dataframe:\n",
      "                              t00        t01        t02        t03        t04        t05        t06        t07        t08        t09        t10        t11        t12        t13        t14        t15        t16        t17        t18        t19        t20        t21        t22        t23        t24        t25        t26        t27        t28        t29        t30        t31        t32        t33        t34        t35        t36        t37        t38        t39        t40        t41        t42        t43        t44        t45        t46        t47        t48        t49        t50        t51        t52        t53        t54        t55        t56        t57        t58        t59     t60  t61  t62  t63\n",
      "datetime                                                                                                                                                                                                                                                                                                                                                                                                                                                                                                                                                                                                                                                                                                                         \n",
      "2025-10-02 08:20:00+00:00  16.226562  15.671875  15.375000  15.187500  15.867188  16.429688  17.953125  17.171875  16.640625  16.125000  15.351562  15.546875  19.875000  18.882812  17.476562  16.937500  19.578125  19.609375  19.000000  17.773438  25.851562  25.859375  26.109375  23.031250  31.390625  31.359375  27.867188  24.242188  32.406250  26.429688  26.039062  30.421875  30.906250  31.398438  30.859375  31.906250  30.687500  31.859375  31.218750  30.578125  28.382812  33.750000  34.742188  32.437500  34.828125  34.992188  32.867188  26.945312  35.437500  32.507812  25.507812  26.726562  32.585938  26.046875  26.382812  33.359375  20.000000  22.070312  31.953125  34.968750 NaN  NaN  NaN  NaN \n",
      "2025-10-02 08:22:00+00:00  16.250000  15.703125  15.406250  15.226562  15.890625  16.453125  18.195312  17.328125  16.640625  16.140625  15.375000  15.562500  20.023438  19.164062  17.632812  16.976562  19.687500  19.593750  18.976562  17.750000  26.265625  26.046875  26.429688  23.687500  32.757812  33.156250  28.570312  24.625000  33.859375  27.296875  27.039062  32.125000  32.554688  33.210938  32.546875  33.804688  32.296875  33.718750  32.937500  32.085938  29.117188  35.156250  35.671875  34.320312  35.398438  35.421875  32.992188  26.828125  35.859375  33.031250  25.929688  27.210938  33.023438  26.210938  26.289062  33.398438  20.015625  22.078125  31.859375  35.171875 NaN  NaN  NaN  NaN \n",
      "2025-10-02 08:24:00+00:00  16.281250  15.718750  15.421875  15.242188  15.914062  16.507812  18.328125  17.429688  16.656250  16.140625  15.390625  15.578125  20.398438  19.601562  18.265625  17.320312  20.070312  19.804688  18.968750  17.757812  26.562500  26.242188  26.664062  24.062500  33.796875  34.132812  28.929688  24.875000  34.687500  27.851562  27.750000  33.226562  33.445312  34.187500  33.437500  34.828125  33.179688  34.710938  33.882812  32.929688  29.453125  35.960938  36.281250  35.351562  35.218750  35.546875  33.007812  26.828125  35.976562  32.976562  25.812500  27.304688  32.960938  26.203125  26.296875  33.320312  20.007812  22.125000  31.781250  35.062500 NaN  NaN  NaN  NaN \n",
      "2025-10-02 08:26:00+00:00  16.320312  15.742188  15.460938  15.273438  15.960938  16.593750  18.367188  17.476562  16.687500  16.164062  15.421875  15.609375  20.343750  19.460938  18.023438  17.242188  19.984375  19.750000  18.968750  17.781250  26.617188  26.335938  26.914062  24.390625  34.382812  34.187500  28.937500  24.820312  35.476562  28.343750  28.375000  34.140625  33.570312  34.289062  33.546875  34.898438  33.257812  34.781250  33.921875  32.976562  29.406250  35.953125  36.593750  35.406250  35.203125  35.617188  33.039062  26.859375  36.046875  33.000000  25.820312  27.437500  32.960938  26.281250  26.343750  33.265625  20.007812  22.148438  31.695312  35.015625 NaN  NaN  NaN  NaN \n",
      "2025-10-02 08:28:00+00:00  16.351562  15.765625  15.476562  15.289062  15.984375  16.640625  18.359375  17.492188  16.703125  16.179688  15.437500  15.632812  20.320312  19.390625  17.929688  17.195312  19.960938  19.726562  18.968750  17.820312  26.757812  26.445312  27.078125  24.593750  34.812500  34.375000  29.101562  24.914062  35.945312  28.656250  28.781250  34.726562  33.773438  34.476562  33.750000  35.078125  33.453125  34.960938  34.140625  33.203125  29.507812  36.000000  36.828125  35.593750  35.320312  35.625000  33.007812  26.851562  36.070312  33.054688  25.914062  27.585938  32.960938  26.359375  26.343750  33.210938  20.000000  22.156250  31.593750  34.992188 NaN  NaN  NaN  NaN \n"
     ]
    },
    {
     "name": "stderr",
     "output_type": "stream",
     "text": [
      "Generating frames…: 100%|██████████| 2946/2946 [03:29<00:00, 14.07it/s]\n"
     ]
    },
    {
     "name": "stdout",
     "output_type": "stream",
     "text": [
      "Writing video...\n"
     ]
    },
    {
     "name": "stderr",
     "output_type": "stream",
     "text": [
      "100%|██████████| 2946/2946 [00:06<00:00, 475.82it/s]"
     ]
    },
    {
     "name": "stdout",
     "output_type": "stream",
     "text": [
      "Video saved as thermal_video_local.mp4\n"
     ]
    },
    {
     "name": "stderr",
     "output_type": "stream",
     "text": [
      "\n"
     ]
    }
   ],
   "source": [
    "if download_data:\n",
    "    # Downloading data\n",
    "    tmp_df = download_tmp_DB(bucket, start_ts, end_ts, data_res,filters)\n",
    "    print(f\"Downloaded {len(tmp_df)} data points from InfluxDB\")\n",
    "else:\n",
    "    tmp_df , _ = tu.readFromFile(data_path)\n",
    "    print(f\"Loaded {len(tmp_df)} data points from {data_path}\")\n",
    "\n",
    "if verbose:\n",
    "    print(f\"Temp dataframe with {tmp_df.shape[0]} rows:\")\n",
    "    print(tmp_df.head())\n",
    "    \n",
    "# Generate video\n",
    "tu.generateThermalVideo(tmp_df, video_name, fps, show_sensors=show_sensors, vmin=vmin, faulty_s=faulty_sensors, vmax=vmax)\n",
    "print(f\"Video saved as {video_name}.mp4\")\n"
   ]
  }
 ],
 "metadata": {
  "kernelspec": {
   "display_name": "imaging",
   "language": "python",
   "name": "python3"
  },
  "language_info": {
   "codemirror_mode": {
    "name": "ipython",
    "version": 3
   },
   "file_extension": ".py",
   "mimetype": "text/x-python",
   "name": "python",
   "nbconvert_exporter": "python",
   "pygments_lexer": "ipython3",
   "version": "3.11.0"
  }
 },
 "nbformat": 4,
 "nbformat_minor": 5
}
