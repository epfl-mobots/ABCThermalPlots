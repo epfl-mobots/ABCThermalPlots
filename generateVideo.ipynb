{
 "cells": [
  {
   "cell_type": "markdown",
   "id": "6e021018",
   "metadata": {},
   "source": [
    "# This script generates a video from a series of thermal data"
   ]
  },
  {
   "cell_type": "markdown",
   "id": "d3748715",
   "metadata": {},
   "source": [
    "## Imports"
   ]
  },
  {
   "cell_type": "code",
   "execution_count": 2,
   "id": "ee59ee80",
   "metadata": {},
   "outputs": [],
   "source": [
    "import pandas as pd\n",
    "from InfluxDBInterface.libdb import download_tmp_DB\n",
    "import thermalutil as tu"
   ]
  },
  {
   "cell_type": "markdown",
   "id": "0eaaaeee",
   "metadata": {},
   "source": [
    "## Configuration"
   ]
  },
  {
   "cell_type": "code",
   "execution_count": 3,
   "id": "d8a7d75e",
   "metadata": {},
   "outputs": [],
   "source": [
    "# ==== GENERAL SETTINGS ====\n",
    "download_data = True   # Set to True to download data from InfluxDB, False to use data stored locally\n",
    "verbose = True          # Set to True to print progress messages\n",
    "hive_nb = 1            # Hive number to process (1 or 2 for OH, 3 for BH and 0 for debugging)\n",
    "\n",
    "# ==== LOCAL DATA CONFIGURATION ====\n",
    "if not download_data:\n",
    "    data_path = 'data/2025-10-09_10-13_influxdb_data.csv' # Path to the local .csv or .dat file containing the data\n",
    "    inhive_loc = 'lower' # inhive_loc value to filter data if multiple locations are present in the file\n",
    "\n",
    "# ==== DATA DOWNLOAD CONFIGURATION ====\n",
    "if download_data:\n",
    "    start_ts = pd.Timestamp('2025-10-16 22:00:00').tz_localize('UTC')\n",
    "    end_ts = pd.Timestamp('2025-10-17 16:53:00').tz_localize('UTC')\n",
    "    bucket = 'ObsHiveABC' # InfluxDB bucket to download data from\n",
    "    data_res = 20 # resolution in seconds of the data. High resolutions will take longer to download\n",
    "    filters = {'hive_num': str(hive_nb), 'inhive_loc': 'lower'} # Filters used when downloading data\n",
    "\n",
    "# ==== VIDEO CONFIGURATION ====\n",
    "fps = 10 # frames per second of the video\n",
    "video_name = 'latest_data' # name of the output video file, without extension\n",
    "show_sensors = True     # show the sensor locations on the thermal frames\n",
    "show_cb = True          # show the colorbar on the thermal frames\n",
    "show_max_temp = True    # show maximum temperature\n",
    "contours = [] # list of temperature values (in °C) at which to draw contour lines. Put [] for automatic\n",
    "vmin = None # minimum temperature in °C for the colormap (put None for automatic)\n",
    "vmax = None # maximum temperature in °C for the colormap (put None for automatic)\n",
    "\n",
    "# ==== ABC CONFIGURATION ====\n",
    "faulty_sensors = [22] # list of sensor IDs that are faulty and should be ignored"
   ]
  },
  {
   "cell_type": "markdown",
   "id": "8b6e4872",
   "metadata": {},
   "source": [
    "## Main code"
   ]
  },
  {
   "cell_type": "code",
   "execution_count": null,
   "id": "0ed39f2b",
   "metadata": {},
   "outputs": [
    {
     "name": "stdout",
     "output_type": "stream",
     "text": [
      "Downloaded 314 data points from InfluxDB\n",
      "Temp dataframe with 314 rows:\n",
      "                              t00        t01        t02        t03        t04        t05        t06        t07       t08        t09        t10        t11        t12        t13        t14        t15        t16        t17        t18        t19        t20        t21     t22     t23        t24        t25        t26        t27        t28        t29        t30        t31        t32        t33        t34        t35        t36        t37        t38        t39        t40        t41        t42        t43        t44        t45        t46        t47        t48        t49        t50        t51        t52        t53        t54        t55        t56        t57        t58        t59     t60  t61  t62  t63\n",
      "datetime                                                                                                                                                                                                                                                                                                                                                                                                                                                                                                                                                                                                                                                                                                                  \n",
      "2025-10-17 15:08:40+00:00  20.164062  19.570312  19.203125  18.945312  20.132812  20.867188  22.242188  21.15625  20.578125  19.757812  19.109375  19.468750  25.304688  24.843750  24.375000  22.445312  25.734375  24.015625  22.203125  21.000000  27.007812  27.179688 NaN   24.203125  33.421875  30.976562  27.398438  25.632812  32.750000  27.640625  26.851562  31.632812  30.078125  30.890625  30.226562  31.789062  30.171875  31.804688  30.929688  30.148438  28.242188  34.101562  35.093750  32.625000  32.171875  34.539062  32.265625  27.507812  30.468750  29.554688  25.648438  27.007812  24.625000  23.203125  25.625000  28.632812  21.078125  23.109375  28.757812  26.414062 NaN  NaN  NaN  NaN \n",
      "2025-10-17 15:09:00+00:00  20.164062  19.570312  19.203125  18.945312  20.140625  20.875000  22.234375  21.15625  20.585938  19.750000  19.101562  19.476562  25.242188  24.757812  24.281250  22.390625  25.648438  23.976562  22.195312  20.992188  26.992188  27.164062 NaN   24.179688  33.367188  30.945312  27.382812  25.617188  32.687500  27.609375  26.820312  31.554688  30.046875  30.859375  30.187500  31.750000  30.148438  31.781250  30.914062  30.132812  28.218750  34.054688  35.085938  32.593750  32.125000  34.468750  32.164062  27.476562  30.375000  29.500000  25.601562  26.976562  24.617188  23.210938  25.601562  28.570312  21.046875  23.085938  28.742188  26.398438 NaN  NaN  NaN  NaN \n",
      "2025-10-17 15:09:20+00:00  20.171875  19.570312  19.203125  18.945312  20.140625  20.882812  22.234375  21.15625  20.578125  19.757812  19.101562  19.476562  25.195312  24.687500  24.195312  22.359375  25.578125  23.937500  22.195312  20.984375  26.976562  27.148438 NaN   24.156250  33.312500  30.914062  27.367188  25.609375  32.632812  27.578125  26.781250  31.492188  30.015625  30.820312  30.171875  31.710938  30.125000  31.742188  30.890625  30.109375  28.203125  34.007812  35.070312  32.554688  32.070312  34.406250  32.054688  27.453125  30.296875  29.453125  25.562500  26.945312  24.609375  23.203125  25.578125  28.492188  21.031250  23.062500  28.742188  26.382812 NaN  NaN  NaN  NaN \n",
      "2025-10-17 15:09:40+00:00  20.179688  19.570312  19.203125  18.953125  20.148438  20.890625  22.234375  21.15625  20.578125  19.750000  19.101562  19.476562  25.140625  24.632812  24.117188  22.320312  25.523438  23.921875  22.195312  20.984375  26.960938  27.132812 NaN   24.132812  33.273438  30.875000  27.351562  25.593750  32.570312  27.546875  26.750000  31.414062  29.984375  30.789062  30.125000  31.671875  30.093750  31.703125  30.843750  30.078125  28.187500  33.968750  35.039062  32.515625  32.023438  34.343750  31.960938  27.421875  30.218750  29.406250  25.531250  26.921875  24.601562  23.195312  25.554688  28.429688  21.031250  23.046875  28.750000  26.375000 NaN  NaN  NaN  NaN \n",
      "2025-10-17 15:10:00+00:00  20.171875  19.578125  19.195312  18.945312  20.148438  20.898438  22.234375  21.15625  20.578125  19.742188  19.101562  19.468750  25.093750  24.578125  24.046875  22.289062  25.460938  23.898438  22.195312  20.968750  26.937500  27.125000 NaN   24.101562  33.234375  30.843750  27.343750  25.578125  32.507812  27.515625  26.726562  31.320312  29.960938  30.750000  30.101562  31.640625  30.054688  31.664062  30.804688  30.046875  28.171875  33.921875  35.023438  32.476562  31.976562  34.281250  31.867188  27.390625  30.156250  29.351562  25.492188  26.890625  24.593750  23.195312  25.546875  28.359375  21.031250  23.039062  28.742188  26.359375 NaN  NaN  NaN  NaN \n"
     ]
    },
    {
     "name": "stderr",
     "output_type": "stream",
     "text": [
      "Generating frames: 100%|██████████| 314/314 [00:29<00:00, 10.83it/s]\n",
      "Writing video: 100%|██████████| 314/314 [00:00<00:00, 670.91frame/s]"
     ]
    },
    {
     "name": "stdout",
     "output_type": "stream",
     "text": [
      "Video saved as latest_data.mp4\n"
     ]
    },
    {
     "name": "stderr",
     "output_type": "stream",
     "text": [
      "\n"
     ]
    }
   ],
   "source": [
    "if download_data:\n",
    "    # Downloading data\n",
    "    tmp_df = download_tmp_DB(bucket, start_ts, end_ts, data_res, filters)\n",
    "    print(f\"Downloaded {len(tmp_df)} data points from InfluxDB\")\n",
    "else:\n",
    "    tmp_df , _ = tu.readFromFile(data_path)\n",
    "    print(f\"Loaded {len(tmp_df)} data points from {data_path}\")\n",
    "\n",
    "if verbose:\n",
    "    print(f\"Temp dataframe with {tmp_df.shape[0]} rows:\")\n",
    "    print(tmp_df.head())\n",
    "    \n",
    "# Generate video\n",
    "tu.generateThermalVideo(tmp_df, video_name, fps=fps, hive_nb=hive_nb, show_cb=show_cb, show_sensors=show_sensors, show_max_temp=show_max_temp, vmin=vmin, faulty_s=faulty_sensors, vmax=vmax)\n",
    "print(f\"Video saved as {video_name}.mp4\")\n"
   ]
  }
 ],
 "metadata": {
  "kernelspec": {
   "display_name": "imaging",
   "language": "python",
   "name": "python3"
  },
  "language_info": {
   "codemirror_mode": {
    "name": "ipython",
    "version": 3
   },
   "file_extension": ".py",
   "mimetype": "text/x-python",
   "name": "python",
   "nbconvert_exporter": "python",
   "pygments_lexer": "ipython3",
   "version": "3.11.0"
  }
 },
 "nbformat": 4,
 "nbformat_minor": 5
}
