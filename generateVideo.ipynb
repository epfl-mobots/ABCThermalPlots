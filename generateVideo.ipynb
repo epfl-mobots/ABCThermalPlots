{
 "cells": [
  {
   "cell_type": "markdown",
   "id": "6e021018",
   "metadata": {},
   "source": [
    "# This script generates a video from a series of thermal data"
   ]
  },
  {
   "cell_type": "markdown",
   "id": "d3748715",
   "metadata": {},
   "source": [
    "## Imports"
   ]
  },
  {
   "cell_type": "code",
   "execution_count": 1,
   "id": "ee59ee80",
   "metadata": {},
   "outputs": [],
   "source": [
    "import pandas as pd\n",
    "from InfluxDBInterface.libdb import download_tmp_DB\n",
    "import thermalutil as tu"
   ]
  },
  {
   "cell_type": "markdown",
   "id": "0eaaaeee",
   "metadata": {},
   "source": [
    "## Configuration"
   ]
  },
  {
   "cell_type": "code",
   "execution_count": 2,
   "id": "d8a7d75e",
   "metadata": {},
   "outputs": [],
   "source": [
    "# ==== GENERAL SETTINGS ====\n",
    "download_data = True   # Set to True to download data from InfluxDB, False to use data stored locally\n",
    "verbose = True          # Set to True to print progress messages\n",
    "hive_nb = 1            # Hive number to process (1 or 2 for OH, 3 for BH and 0 for debugging)\n",
    "\n",
    "# ==== LOCAL DATA CONFIGURATION ====\n",
    "if not download_data:\n",
    "    data_path = 'data/2025-10-09_10-13_influxdb_data.csv' # Path to the local .csv or .dat file containing the data\n",
    "    inhive_loc = 'lower' # inhive_loc value to filter data if multiple locations are present in the file\n",
    "\n",
    "# ==== DATA DOWNLOAD CONFIGURATION ====\n",
    "if download_data:\n",
    "    start_ts = pd.Timestamp('2025-10-08 22:00:00').tz_localize('UTC')\n",
    "    end_ts = pd.Timestamp('2025-10-10 13:00:00').tz_localize('UTC')\n",
    "    bucket = 'a_sensing' # InfluxDB bucket to download data from\n",
    "    data_res = 300 # resolution in seconds of the data. High resolutions will take longer to download\n",
    "    filters = {'hive_num': str(hive_nb), 'inhive_loc': 'lower'} # Filters used when downloading data\n",
    "\n",
    "# ==== VIDEO CONFIGURATION ====\n",
    "fps = 10 # frames per second of the video\n",
    "video_name = 'latest_data' # name of the output video file, without extension\n",
    "show_sensors = True     # show the sensor locations on the thermal frames\n",
    "show_cb = True          # show the colorbar on the thermal frames\n",
    "show_max_temp = True    # show maximum temperature\n",
    "contours = [] # list of temperature values (in °C) at which to draw contour lines. Put [] for automatic\n",
    "vmin = None # minimum temperature in °C for the colormap (put None for automatic)\n",
    "vmax = None # maximum temperature in °C for the colormap (put None for automatic)\n",
    "\n",
    "# ==== ABC CONFIGURATION ====\n",
    "faulty_sensors = [22] # list of sensor IDs that are faulty and should be ignored"
   ]
  },
  {
   "cell_type": "markdown",
   "id": "8b6e4872",
   "metadata": {},
   "source": [
    "## Main code"
   ]
  },
  {
   "cell_type": "code",
   "execution_count": 3,
   "id": "0ed39f2b",
   "metadata": {},
   "outputs": [
    {
     "name": "stdout",
     "output_type": "stream",
     "text": [
      "Downloaded 462 data points from InfluxDB\n",
      "Temp dataframe with 462 rows:\n",
      "                              t00        t01        t02        t03        t04        t05        t06        t07        t08        t09        t10        t11        t12        t13        t14        t15        t16        t17        t18        t19        t20        t21        t22        t23        t24        t25        t26       t27        t28        t29        t30        t31        t32        t33        t34        t35        t36        t37        t38        t39        t40        t41        t42        t43        t44        t45        t46        t47        t48        t49        t50        t51        t52        t53        t54        t55        t56        t57        t58        t59     t60  t61  t62  t63\n",
      "datetime                                                                                                                                                                                                                                                                                                                                                                                                                                                                                                                                                                                                                                                                                                                        \n",
      "2025-10-08 22:05:00+00:00  20.187500  21.359375  23.945312  22.640625  21.859375  20.937500  22.468750  21.296875  21.085938  19.828125  23.226562  24.742188  25.265625  24.195312  23.226562  22.187500  25.554688  24.656250  23.093750  21.234375  29.554688  29.445312  29.976562  26.937500  35.109375  34.007812  29.87500  27.765625  34.742188  29.328125  30.148438  34.421875  33.195312  33.851562  33.390625  34.500000  33.375000  34.632812  34.039062  33.390625  29.476562  35.328125  36.390625  35.062500  33.828125  35.867188  33.734375  27.414062  35.140625  32.023438  25.320312  27.507812  28.523438  24.789062  26.320312  32.664062  19.179688  21.117188  27.914062  30.210938 NaN  NaN  NaN  NaN \n",
      "2025-10-08 22:10:00+00:00  20.390625  20.593750  20.835938  19.898438  21.273438  21.085938  22.382812  21.273438  21.281250  20.031250  20.296875  21.460938  25.054688  23.953125  22.960938  22.164062  25.265625  24.492188  23.070312  21.265625  29.507812  29.414062  29.953125  26.921875  35.164062  34.109375  29.90625  27.710938  34.804688  29.304688  30.132812  34.460938  33.359375  34.015625  33.515625  34.625000  33.429688  34.703125  34.085938  33.429688  29.429688  35.328125  36.484375  35.132812  33.976562  35.953125  33.640625  27.445312  35.210938  32.015625  25.281250  27.492188  28.375000  24.718750  26.328125  32.609375  19.031250  20.992188  27.906250  30.250000 NaN  NaN  NaN  NaN \n",
      "2025-10-08 22:15:00+00:00  20.390625  20.140625  19.906250  19.343750  20.703125  21.023438  22.312500  21.257812  20.984375  19.851562  19.539062  20.312500  24.851562  23.773438  22.742188  21.914062  25.000000  24.328125  23.054688  21.296875  29.429688  29.343750  29.929688  26.890625  35.250000  34.179688  29.90625  27.640625  34.867188  29.328125  30.109375  34.648438  33.437500  34.109375  33.570312  34.718750  33.476562  34.757812  34.125000  33.453125  29.414062  35.445312  36.359375  35.203125  34.171875  35.953125  33.539062  27.414062  35.359375  32.078125  25.382812  27.585938  28.234375  24.695312  26.328125  32.562500  19.046875  21.046875  28.015625  30.351562 NaN  NaN  NaN  NaN \n",
      "2025-10-08 22:20:00+00:00  20.320312  19.867188  19.492188  19.070312  20.359375  20.898438  22.250000  21.234375  20.789062  19.742188  19.218750  19.820312  24.734375  23.640625  22.554688  21.718750  24.812500  24.218750  23.031250  21.320312  29.359375  29.312500  29.921875  26.921875  35.109375  34.195312  29.90625  27.562500  34.812500  29.328125  30.109375  34.679688  33.460938  34.132812  33.585938  34.750000  33.484375  34.765625  34.125000  33.453125  29.367188  35.656250  36.195312  35.242188  33.929688  35.843750  33.351562  27.398438  35.320312  32.000000  25.312500  27.500000  28.226562  24.648438  26.296875  32.507812  19.078125  21.101562  28.070312  30.320312 NaN  NaN  NaN  NaN \n",
      "2025-10-08 22:25:00+00:00  20.234375  19.679688  19.250000  18.906250  20.125000  20.757812  22.226562  21.210938  20.656250  19.656250  19.031250  19.554688  24.570312  23.515625  22.382812  21.546875  24.632812  24.125000  23.000000  21.312500  29.296875  29.281250  29.921875  26.960938  35.085938  34.164062  29.90625  27.507812  34.750000  29.328125  30.132812  34.656250  33.398438  34.070312  33.539062  34.710938  33.460938  34.804688  34.156250  33.468750  29.359375  35.781250  36.070312  35.281250  33.679688  35.664062  33.242188  27.367188  35.242188  32.031250  25.359375  27.351562  28.242188  24.640625  26.273438  32.312500  22.601562  24.632812  31.312500  31.445312 NaN  NaN  NaN  NaN \n"
     ]
    },
    {
     "name": "stderr",
     "output_type": "stream",
     "text": [
      "Generating frames…: 100%|██████████| 468/468 [00:45<00:00, 10.39it/s]\n"
     ]
    },
    {
     "name": "stdout",
     "output_type": "stream",
     "text": [
      "Writing video...\n"
     ]
    },
    {
     "name": "stderr",
     "output_type": "stream",
     "text": [
      "100%|██████████| 468/468 [00:00<00:00, 503.44it/s]"
     ]
    },
    {
     "name": "stdout",
     "output_type": "stream",
     "text": [
      "Video saved as latest_data.mp4\n"
     ]
    },
    {
     "name": "stderr",
     "output_type": "stream",
     "text": [
      "\n"
     ]
    }
   ],
   "source": [
    "if download_data:\n",
    "    # Downloading data\n",
    "    tmp_df = download_tmp_DB(bucket, start_ts, end_ts, data_res,filters)\n",
    "    print(f\"Downloaded {len(tmp_df)} data points from InfluxDB\")\n",
    "else:\n",
    "    tmp_df , _ = tu.readFromFile(data_path)\n",
    "    print(f\"Loaded {len(tmp_df)} data points from {data_path}\")\n",
    "\n",
    "if verbose:\n",
    "    print(f\"Temp dataframe with {tmp_df.shape[0]} rows:\")\n",
    "    print(tmp_df.head())\n",
    "    \n",
    "# Generate video\n",
    "tu.generateThermalVideo(tmp_df, video_name, fps, hive_nb=hive_nb, show_cb=show_cb, show_sensors=show_sensors, show_max_temp=show_max_temp, vmin=vmin, faulty_s=faulty_sensors, vmax=vmax)\n",
    "print(f\"Video saved as {video_name}.mp4\")\n"
   ]
  }
 ],
 "metadata": {
  "kernelspec": {
   "display_name": "imaging",
   "language": "python",
   "name": "python3"
  },
  "language_info": {
   "codemirror_mode": {
    "name": "ipython",
    "version": 3
   },
   "file_extension": ".py",
   "mimetype": "text/x-python",
   "name": "python",
   "nbconvert_exporter": "python",
   "pygments_lexer": "ipython3",
   "version": "3.11.0"
  }
 },
 "nbformat": 4,
 "nbformat_minor": 5
}
