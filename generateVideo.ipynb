{
 "cells": [
  {
   "cell_type": "markdown",
   "id": "6e021018",
   "metadata": {},
   "source": [
    "# This script generates a video from a series of thermal data"
   ]
  },
  {
   "cell_type": "markdown",
   "id": "d3748715",
   "metadata": {},
   "source": [
    "## Imports"
   ]
  },
  {
   "cell_type": "code",
   "execution_count": 1,
   "id": "ee59ee80",
   "metadata": {},
   "outputs": [],
   "source": [
    "import pandas as pd\n",
    "from InfluxDBInterface.libdb import download_tmp_DB\n",
    "import thermalutil as tu"
   ]
  },
  {
   "cell_type": "markdown",
   "id": "0eaaaeee",
   "metadata": {},
   "source": [
    "## Configuration"
   ]
  },
  {
   "cell_type": "code",
   "execution_count": 2,
   "id": "d8a7d75e",
   "metadata": {},
   "outputs": [],
   "source": [
    "# ==== GENERAL SETTINGS ====\n",
    "download_data = True   # Set to True to download data from InfluxDB, False to use data stored locally\n",
    "verbose = True          # Set to True to print progress messages\n",
    "hive_nb = 1            # Hive number to process (1 or 2 for OH, 3 for BH and 0 for debugging)\n",
    "\n",
    "# ==== LOCAL DATA CONFIGURATION ====\n",
    "if not download_data:\n",
    "    data_path = 'data/2025-10-09_10-13_influxdb_data.csv' # Path to the local .csv or .dat file containing the data\n",
    "    inhive_loc = 'lower' # inhive_loc value to filter data if multiple locations are present in the file\n",
    "\n",
    "# ==== DATA DOWNLOAD CONFIGURATION ====\n",
    "if download_data:\n",
    "    start_ts = pd.Timestamp('2025-10-09 22:00:00').tz_localize('UTC')\n",
    "    end_ts = pd.Timestamp('2025-10-15 13:00:00').tz_localize('UTC')\n",
    "    bucket = 'a_sensing' # InfluxDB bucket to download data from\n",
    "    data_res = 300 # resolution in seconds of the data. High resolutions will take longer to download\n",
    "    filters = {'hive_num': str(hive_nb), 'inhive_loc': 'lower'} # Filters used when downloading data\n",
    "\n",
    "# ==== VIDEO CONFIGURATION ====\n",
    "fps = 10 # frames per second of the video\n",
    "video_name = 'latest_data' # name of the output video file, without extension\n",
    "show_sensors = True     # show the sensor locations on the thermal frames\n",
    "show_cb = True          # show the colorbar on the thermal frames\n",
    "show_max_temp = True    # show maximum temperature\n",
    "contours = [] # list of temperature values (in °C) at which to draw contour lines. Put [] for automatic\n",
    "vmin = None # minimum temperature in °C for the colormap (put None for automatic)\n",
    "vmax = None # maximum temperature in °C for the colormap (put None for automatic)\n",
    "\n",
    "# ==== ABC CONFIGURATION ====\n",
    "faulty_sensors = [22] # list of sensor IDs that are faulty and should be ignored"
   ]
  },
  {
   "cell_type": "markdown",
   "id": "8b6e4872",
   "metadata": {},
   "source": [
    "## Main code"
   ]
  },
  {
   "cell_type": "code",
   "execution_count": 3,
   "id": "0ed39f2b",
   "metadata": {},
   "outputs": [
    {
     "name": "stdout",
     "output_type": "stream",
     "text": [
      "Downloaded 1614 data points from InfluxDB\n",
      "Temp dataframe with 1614 rows:\n",
      "                              t00        t01        t02        t03        t04        t05        t06        t07        t08        t09        t10        t11        t12        t13        t14        t15        t16        t17        t18        t19        t20        t21        t22        t23        t24        t25        t26        t27        t28        t29        t30        t31        t32        t33        t34        t35        t36        t37        t38        t39        t40        t41        t42        t43        t44        t45        t46        t47        t48        t49        t50        t51        t52        t53        t54        t55        t56        t57        t58        t59     t60  t61  t62  t63\n",
      "datetime                                                                                                                                                                                                                                                                                                                                                                                                                                                                                                                                                                                                                                                                                                                         \n",
      "2025-10-09 22:05:00+00:00  21.664062  20.820312  20.140625  19.820312  21.257812  22.171875  23.546875  22.585938  21.617188  20.562500  19.906250  20.421875  25.875000  24.718750  23.367188  22.500000  25.507812  25.296875  24.250000  22.210938  29.281250  30.382812  30.890625  27.148438  35.101562  33.203125  30.460938  28.054688  34.312500  28.687500  29.882812  35.078125  32.648438  33.250000  32.671875  33.812500  32.554688  33.750000  33.101562  32.578125  31.343750  35.187500  35.773438  34.320312  32.476562  35.664062  34.828125  30.851562  35.554688  32.015625  24.906250  25.875000  33.046875  28.953125  30.093750  34.414062  22.257812  23.835938  33.601562  35.218750 NaN  NaN  NaN  NaN \n",
      "2025-10-09 22:10:00+00:00  21.460938  20.703125  20.132812  19.843750  21.156250  21.937500  23.421875  22.460938  24.335938  22.632812  20.007812  20.515625  25.875000  24.726562  23.281250  23.093750  25.429688  25.765625  25.890625  24.437500  29.289062  30.437500  30.976562  27.382812  35.085938  33.453125  30.500000  28.085938  34.437500  28.531250  29.750000  34.921875  32.843750  33.476562  32.890625  34.039062  32.796875  34.015625  33.382812  32.812500  31.273438  35.117188  35.789062  34.539062  32.453125  35.640625  34.578125  30.851562  35.507812  32.039062  24.921875  25.859375  33.070312  28.953125  30.093750  34.460938  22.250000  23.859375  33.773438  35.320312 NaN  NaN  NaN  NaN \n",
      "2025-10-09 22:15:00+00:00  21.367188  20.664062  20.164062  19.890625  21.171875  21.843750  23.320312  22.390625  22.562500  21.445312  20.179688  20.632812  25.851562  24.656250  23.234375  22.773438  25.382812  25.625000  25.187500  23.117188  29.289062  30.414062  30.945312  27.328125  35.046875  33.570312  30.507812  28.070312  34.445312  28.593750  29.804688  34.937500  32.960938  33.617188  33.007812  34.187500  32.890625  34.117188  33.460938  32.890625  31.226562  35.218750  35.929688  34.632812  32.343750  35.585938  34.750000  30.804688  35.601562  32.039062  24.945312  25.820312  33.156250  29.000000  30.093750  34.460938  22.296875  23.906250  33.718750  35.335938 NaN  NaN  NaN  NaN \n",
      "2025-10-09 22:20:00+00:00  21.312500  20.648438  20.179688  19.921875  21.117188  21.789062  23.265625  22.335938  22.148438  21.101562  20.156250  20.570312  25.710938  24.554688  23.179688  22.625000  25.343750  25.523438  24.859375  22.734375  29.312500  30.414062  30.921875  27.281250  35.234375  33.531250  30.562500  28.125000  34.437500  28.578125  29.773438  35.000000  33.000000  33.585938  33.023438  34.085938  32.898438  34.039062  33.421875  32.890625  31.203125  35.304688  35.859375  34.523438  32.500000  35.585938  34.664062  30.726562  35.734375  32.101562  25.109375  25.960938  33.234375  29.023438  30.000000  34.437500  22.359375  23.929688  33.695312  35.343750 NaN  NaN  NaN  NaN \n",
      "2025-10-09 22:25:00+00:00  21.265625  20.617188  20.179688  19.929688  21.101562  21.781250  23.289062  22.312500  21.992188  20.953125  20.117188  20.531250  27.468750  26.445312  25.632812  23.679688  27.289062  26.273438  24.726562  22.625000  29.593750  30.546875  30.898438  27.242188  35.281250  33.562500  30.617188  28.414062  34.437500  28.679688  29.804688  34.976562  33.062500  33.593750  33.085938  34.046875  32.976562  34.000000  33.460938  32.968750  31.265625  35.265625  35.734375  34.445312  32.515625  35.640625  34.773438  30.695312  35.750000  32.023438  25.125000  26.062500  33.164062  29.062500  29.984375  34.562500  22.250000  23.882812  33.742188  35.257812 NaN  NaN  NaN  NaN \n"
     ]
    },
    {
     "name": "stderr",
     "output_type": "stream",
     "text": [
      "Generating frames: 100%|██████████| 1620/1620 [02:29<00:00, 10.84it/s]\n",
      "Writing video: 100%|██████████| 1620/1620 [00:03<00:00, 443.68frame/s]"
     ]
    },
    {
     "name": "stdout",
     "output_type": "stream",
     "text": [
      "Video saved as latest_data.mp4\n"
     ]
    },
    {
     "name": "stderr",
     "output_type": "stream",
     "text": [
      "\n"
     ]
    }
   ],
   "source": [
    "if download_data:\n",
    "    # Downloading data\n",
    "    tmp_df = download_tmp_DB(bucket, start_ts, end_ts, data_res,filters)\n",
    "    print(f\"Downloaded {len(tmp_df)} data points from InfluxDB\")\n",
    "else:\n",
    "    tmp_df , _ = tu.readFromFile(data_path)\n",
    "    print(f\"Loaded {len(tmp_df)} data points from {data_path}\")\n",
    "\n",
    "if verbose:\n",
    "    print(f\"Temp dataframe with {tmp_df.shape[0]} rows:\")\n",
    "    print(tmp_df.head())\n",
    "    \n",
    "# Generate video\n",
    "tu.generateThermalVideo(tmp_df, video_name, fps=fps, hive_nb=hive_nb, show_cb=show_cb, show_sensors=show_sensors, show_max_temp=show_max_temp, vmin=vmin, faulty_s=faulty_sensors, vmax=vmax)\n",
    "print(f\"Video saved as {video_name}.mp4\")\n"
   ]
  }
 ],
 "metadata": {
  "kernelspec": {
   "display_name": "imaging",
   "language": "python",
   "name": "python3"
  },
  "language_info": {
   "codemirror_mode": {
    "name": "ipython",
    "version": 3
   },
   "file_extension": ".py",
   "mimetype": "text/x-python",
   "name": "python",
   "nbconvert_exporter": "python",
   "pygments_lexer": "ipython3",
   "version": "3.11.0"
  }
 },
 "nbformat": 4,
 "nbformat_minor": 5
}
