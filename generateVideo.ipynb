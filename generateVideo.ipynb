{
 "cells": [
  {
   "cell_type": "markdown",
   "id": "6e021018",
   "metadata": {},
   "source": [
    "# This script generates a video from a series of thermal data"
   ]
  },
  {
   "cell_type": "markdown",
   "id": "d3748715",
   "metadata": {},
   "source": [
    "## Imports"
   ]
  },
  {
   "cell_type": "code",
   "execution_count": 1,
   "id": "ee59ee80",
   "metadata": {},
   "outputs": [],
   "source": [
    "import pandas as pd\n",
    "from InfluxDBInterface.libdb import download_tmp_DB\n",
    "import thermalutil as tu"
   ]
  },
  {
   "cell_type": "markdown",
   "id": "0eaaaeee",
   "metadata": {},
   "source": [
    "## Configuration"
   ]
  },
  {
   "cell_type": "code",
   "execution_count": 2,
   "id": "d8a7d75e",
   "metadata": {},
   "outputs": [],
   "source": [
    "# ==== GENERAL SETTINGS ====\n",
    "download_data = True   # Set to True to download data from InfluxDB, False to use data stored locally\n",
    "verbose = True          # Set to True to print progress messages\n",
    "hive_nb = 1            # Hive number to process (1 or 2 for OH, 3 for BH and 0 for debugging)\n",
    "\n",
    "# ==== LOCAL DATA CONFIGURATION ====\n",
    "if not download_data:\n",
    "    data_path = 'data/2025-10-09_10-13_influxdb_data.csv' # Path to the local .csv or .dat file containing the data\n",
    "    inhive_loc = 'lower' # inhive_loc value to filter data if multiple locations are present in the file\n",
    "\n",
    "# ==== DATA DOWNLOAD CONFIGURATION ====\n",
    "if download_data:\n",
    "    start_ts = pd.Timestamp('2025-10-10 22:00:00').tz_localize('UTC')\n",
    "    end_ts = pd.Timestamp('2025-10-17 13:15:00').tz_localize('UTC')\n",
    "    bucket = 'a_sensing' # InfluxDB bucket to download data from\n",
    "    data_res = 300 # resolution in seconds of the data. High resolutions will take longer to download\n",
    "    filters = {'hive_num': str(hive_nb), 'inhive_loc': 'lower'} # Filters used when downloading data\n",
    "\n",
    "# ==== VIDEO CONFIGURATION ====\n",
    "fps = 10 # frames per second of the video\n",
    "video_name = 'latest_data' # name of the output video file, without extension\n",
    "show_sensors = True     # show the sensor locations on the thermal frames\n",
    "show_cb = True          # show the colorbar on the thermal frames\n",
    "show_max_temp = True    # show maximum temperature\n",
    "contours = [] # list of temperature values (in °C) at which to draw contour lines. Put [] for automatic\n",
    "vmin = None # minimum temperature in °C for the colormap (put None for automatic)\n",
    "vmax = None # maximum temperature in °C for the colormap (put None for automatic)\n",
    "\n",
    "# ==== ABC CONFIGURATION ====\n",
    "faulty_sensors = [22] # list of sensor IDs that are faulty and should be ignored"
   ]
  },
  {
   "cell_type": "markdown",
   "id": "8b6e4872",
   "metadata": {},
   "source": [
    "## Main code"
   ]
  },
  {
   "cell_type": "code",
   "execution_count": 3,
   "id": "0ed39f2b",
   "metadata": {},
   "outputs": [
    {
     "name": "stdout",
     "output_type": "stream",
     "text": [
      "Downloaded 1911 data points from InfluxDB\n",
      "Temp dataframe with 1911 rows:\n",
      "                              t00        t01        t02        t03        t04        t05        t06        t07        t08        t09        t10        t11        t12        t13        t14        t15        t16        t17        t18        t19        t20        t21     t22     t23        t24        t25        t26        t27        t28        t29        t30        t31        t32        t33        t34        t35        t36        t37        t38        t39        t40        t41        t42        t43        t44        t45        t46        t47        t48        t49        t50        t51        t52        t53        t54        t55        t56        t57        t58        t59     t60  t61  t62  t63\n",
      "datetime                                                                                                                                                                                                                                                                                                                                                                                                                                                                                                                                                                                                                                                                                                                   \n",
      "2025-10-10 22:05:00+00:00  22.484375  21.789062  21.203125  20.742188  23.171875  23.960938  25.031250  23.414062  24.000000  21.914062  21.039062  21.890625  30.484375  28.906250  29.328125  27.406250  31.890625  30.000000  26.132812  23.054688  32.085938  31.570312 NaN   25.343750  34.632812  34.070312  32.000000  30.703125  32.976562  27.546875  27.335938  32.210938  33.765625  34.109375  33.773438  34.429688  33.664062  34.398438  33.984375  33.632812  32.500000  35.273438  35.406250  34.734375  32.406250  35.554688  34.914062  32.250000  35.242188  31.656250  25.656250  26.453125  32.984375  30.257812  31.390625  34.523438  22.929688  24.617188  32.093750  33.820312 NaN  NaN  NaN  NaN \n",
      "2025-10-10 22:10:00+00:00  22.453125  21.781250  21.195312  20.718750  23.156250  23.960938  25.023438  23.382812  23.968750  21.898438  21.046875  21.906250  29.992188  28.500000  28.742188  27.093750  31.242188  29.710938  26.070312  23.039062  32.078125  31.531250 NaN   25.367188  34.617188  34.179688  32.039062  30.687500  33.000000  27.562500  27.343750  32.218750  33.828125  34.179688  33.843750  34.515625  33.765625  34.507812  34.101562  33.750000  32.500000  35.203125  35.210938  34.812500  32.367188  35.585938  34.898438  32.289062  35.062500  31.695312  25.789062  26.484375  32.921875  30.195312  31.390625  34.351562  23.125000  25.023438  32.257812  33.812500 NaN  NaN  NaN  NaN \n",
      "2025-10-10 22:15:00+00:00  22.445312  22.835938  23.687500  22.570312  24.046875  23.960938  25.023438  23.351562  24.007812  22.062500  23.101562  24.539062  29.835938  28.304688  28.507812  26.976562  31.031250  29.578125  25.984375  22.992188  32.093750  31.507812 NaN   25.351562  34.562500  34.335938  32.125000  30.695312  32.921875  27.515625  27.312500  32.296875  33.984375  34.359375  34.007812  34.687500  33.906250  34.632812  34.226562  33.851562  32.515625  35.187500  35.312500  34.937500  32.406250  35.437500  34.835938  32.304688  35.085938  31.828125  25.726562  26.429688  32.890625  30.164062  31.375000  34.500000  22.953125  24.898438  32.343750  33.867188 NaN  NaN  NaN  NaN \n",
      "2025-10-10 22:20:00+00:00  22.554688  22.328125  22.156250  21.421875  23.617188  24.023438  25.117188  23.382812  23.984375  22.062500  21.781250  22.867188  29.734375  28.179688  28.382812  26.859375  30.875000  29.453125  25.875000  22.945312  32.101562  31.515625 NaN   25.312500  34.601562  34.320312  32.171875  30.679688  32.929688  27.484375  27.289062  32.382812  33.953125  34.312500  34.000000  34.656250  33.921875  34.625000  34.218750  33.867188  32.539062  35.187500  35.406250  34.929688  32.281250  35.398438  34.851562  32.367188  35.250000  31.804688  25.843750  26.421875  32.695312  30.117188  31.382812  34.585938  22.914062  24.835938  32.234375  33.820312 NaN  NaN  NaN  NaN \n",
      "2025-10-10 22:25:00+00:00  22.562500  22.085938  21.664062  21.109375  23.398438  24.023438  25.148438  23.414062  23.867188  21.929688  21.382812  22.312500  29.656250  28.093750  28.289062  26.804688  30.710938  29.304688  25.765625  22.890625  32.101562  31.554688 NaN   25.289062  34.640625  34.328125  32.171875  30.671875  32.921875  27.429688  27.273438  32.523438  33.968750  34.335938  34.000000  34.664062  33.921875  34.609375  34.210938  33.867188  32.531250  35.226562  35.382812  34.937500  32.148438  35.562500  34.898438  32.406250  35.265625  31.617188  25.820312  26.343750  32.656250  30.125000  31.406250  34.570312  22.796875  24.718750  32.171875  33.718750 NaN  NaN  NaN  NaN \n"
     ]
    },
    {
     "name": "stderr",
     "output_type": "stream",
     "text": [
      "Generating frames: 100%|██████████| 1911/1911 [03:15<00:00,  9.76it/s]\n",
      "Writing video: 100%|██████████| 1911/1911 [00:04<00:00, 397.16frame/s]\n"
     ]
    },
    {
     "name": "stdout",
     "output_type": "stream",
     "text": [
      "Video saved as latest_data.mp4\n"
     ]
    }
   ],
   "source": [
    "if download_data:\n",
    "    # Downloading data\n",
    "    tmp_df = download_tmp_DB(bucket, start_ts, end_ts, data_res,filters)\n",
    "    print(f\"Downloaded {len(tmp_df)} data points from InfluxDB\")\n",
    "else:\n",
    "    tmp_df , _ = tu.readFromFile(data_path)\n",
    "    print(f\"Loaded {len(tmp_df)} data points from {data_path}\")\n",
    "\n",
    "if verbose:\n",
    "    print(f\"Temp dataframe with {tmp_df.shape[0]} rows:\")\n",
    "    print(tmp_df.head())\n",
    "    \n",
    "# Generate video\n",
    "tu.generateThermalVideo(tmp_df, video_name, fps=fps, hive_nb=hive_nb, show_cb=show_cb, show_sensors=show_sensors, show_max_temp=show_max_temp, vmin=vmin, faulty_s=faulty_sensors, vmax=vmax)\n",
    "print(f\"Video saved as {video_name}.mp4\")\n"
   ]
  }
 ],
 "metadata": {
  "kernelspec": {
   "display_name": "imaging",
   "language": "python",
   "name": "python3"
  },
  "language_info": {
   "codemirror_mode": {
    "name": "ipython",
    "version": 3
   },
   "file_extension": ".py",
   "mimetype": "text/x-python",
   "name": "python",
   "nbconvert_exporter": "python",
   "pygments_lexer": "ipython3",
   "version": "3.11.0"
  }
 },
 "nbformat": 4,
 "nbformat_minor": 5
}
