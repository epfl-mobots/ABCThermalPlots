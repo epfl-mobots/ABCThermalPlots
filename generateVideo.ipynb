{
 "cells": [
  {
   "cell_type": "markdown",
   "id": "6e021018",
   "metadata": {},
   "source": [
    "# This script generates a video from a series of thermal data"
   ]
  },
  {
   "cell_type": "markdown",
   "id": "d3748715",
   "metadata": {},
   "source": [
    "## Imports"
   ]
  },
  {
   "cell_type": "code",
   "execution_count": 1,
   "id": "ee59ee80",
   "metadata": {},
   "outputs": [],
   "source": [
    "import pandas as pd\n",
    "from InfluxDBInterface.libdb import download_tmp_DB\n",
    "import thermalutil as tu"
   ]
  },
  {
   "cell_type": "markdown",
   "id": "0eaaaeee",
   "metadata": {},
   "source": [
    "## Configuration"
   ]
  },
  {
   "cell_type": "code",
   "execution_count": 2,
   "id": "d8a7d75e",
   "metadata": {},
   "outputs": [],
   "source": [
    "# ==== GENERAL SETTINGS ====\n",
    "download_data = True   # Set to True to download data from InfluxDB, False to use data stored locally\n",
    "verbose = True          # Set to True to print progress messages\n",
    "\n",
    "# ==== LOCAL DATA CONFIGURATION ====\n",
    "if not download_data:\n",
    "    data_path = 'data/2025-10-09_10-13_influxdb_data.csv' # Path to the local .csv or .dat file containing the data\n",
    "    inhive_loc = 'lower' # inhive_loc value to filter data if multiple locations are present in the file\n",
    "\n",
    "# ==== DATA DOWNLOAD CONFIGURATION ====\n",
    "if download_data:\n",
    "    start_ts = pd.Timestamp('2025-10-07 14:00:00').tz_localize('UTC')\n",
    "    end_ts = pd.Timestamp('2025-10-10 10:00:00').tz_localize('UTC')\n",
    "    bucket = 'a_sensing' # InfluxDB bucket to download data from\n",
    "    data_res = 300 # resolution in seconds of the data. High resolutions will take longer to download\n",
    "    filters = {'hive_num': '1', 'inhive_loc':'lower'} # Filters used when downloading data\n",
    "\n",
    "# ==== VIDEO CONFIGURATION ====\n",
    "fps = 10 # frames per second of the video\n",
    "video_name = 'latest_data' # name of the output video file, without extension\n",
    "show_sensors = True     # show the sensor locations on the thermal frames\n",
    "show_cb = True          # show the colorbar on the thermal frames\n",
    "show_max_temp = True    # show maximum temperature\n",
    "contours = [] # list of temperature values (in °C) at which to draw contour lines. Put [] for automatic\n",
    "vmin = None # minimum temperature in °C for the colormap (put None for automatic)\n",
    "vmax = None # maximum temperature in °C for the colormap (put None for automatic)\n",
    "\n",
    "# ==== ABC CONFIGURATION ====\n",
    "faulty_sensors = [22] # list of sensor IDs that are faulty and should be ignored"
   ]
  },
  {
   "cell_type": "markdown",
   "id": "8b6e4872",
   "metadata": {},
   "source": [
    "## Main code"
   ]
  },
  {
   "cell_type": "code",
   "execution_count": 3,
   "id": "0ed39f2b",
   "metadata": {},
   "outputs": [
    {
     "name": "stdout",
     "output_type": "stream",
     "text": [
      "Downloaded 813 data points from InfluxDB\n",
      "Temp dataframe with 813 rows:\n",
      "                              t00        t01        t02        t03        t04        t05        t06        t07        t08        t09        t10        t11        t12        t13        t14        t15        t16        t17        t18        t19        t20        t21        t22        t23        t24        t25        t26        t27        t28        t29        t30        t31        t32        t33        t34        t35        t36        t37        t38        t39        t40        t41        t42        t43        t44        t45        t46        t47        t48        t49        t50        t51        t52        t53        t54        t55        t56        t57        t58        t59     t60  t61  t62  t63\n",
      "datetime                                                                                                                                                                                                                                                                                                                                                                                                                                                                                                                                                                                                                                                                                                                         \n",
      "2025-10-07 14:05:00+00:00  24.375000  23.781250  23.367188  23.078125  23.890625  24.539062  25.820312  25.179688  24.515625  23.820312  23.101562  23.429688  26.554688  26.390625  25.054688  24.554688  25.929688  25.421875  24.937500  24.281250  28.859375  27.523438  26.046875  24.562500  31.617188  32.882812  30.523438  28.468750  29.539062  26.570312  25.367188  27.804688  32.523438  32.968750  32.445312  33.437500  32.195312  33.281250  32.617188  32.015625  30.656250  34.984375  34.031250  33.843750  32.062500  35.226562  34.062500  29.500000  35.398438  32.367188  28.351562  28.007812  31.984375  28.078125  28.875000  33.953125  26.984375  27.796875  33.531250  34.148438 NaN  NaN  NaN  NaN \n",
      "2025-10-07 14:10:00+00:00  24.304688  23.726562  23.343750  23.070312  23.851562  24.453125  25.765625  25.125000  24.015625  23.468750  23.117188  23.421875  26.546875  26.359375  25.015625  24.445312  25.898438  25.367188  24.679688  23.890625  28.835938  27.523438  26.078125  24.539062  31.554688  32.898438  30.593750  28.460938  29.609375  26.609375  25.398438  27.765625  32.601562  33.023438  32.484375  33.460938  32.203125  33.265625  32.593750  31.992188  30.695312  34.984375  34.203125  33.859375  32.093750  35.218750  34.273438  29.523438  35.273438  32.421875  28.289062  28.101562  31.921875  28.093750  28.929688  34.023438  26.640625  27.601562  33.609375  34.171875 NaN  NaN  NaN  NaN \n",
      "2025-10-07 14:15:00+00:00  24.265625  23.687500  23.320312  23.054688  23.851562  24.476562  25.843750  25.125000  23.914062  23.335938  23.078125  23.382812  28.664062  28.812500  27.820312  25.695312  28.117188  26.289062  24.601562  23.773438  29.062500  27.695312  26.093750  24.531250  31.343750  32.734375  30.562500  28.664062  29.578125  26.570312  25.414062  27.765625  32.414062  32.835938  32.335938  33.289062  32.078125  33.117188  32.453125  31.867188  30.679688  34.765625  34.015625  33.695312  32.062500  35.171875  34.289062  29.554688  35.328125  32.476562  28.218750  28.015625  31.984375  28.101562  28.984375  33.812500  26.296875  27.398438  33.656250  34.132812 NaN  NaN  NaN  NaN \n",
      "2025-10-07 14:20:00+00:00  24.312500  23.726562  23.343750  23.070312  23.984375  24.687500  26.000000  25.179688  23.945312  23.281250  23.062500  23.406250  27.812500  27.585938  26.695312  25.289062  27.437500  26.117188  24.585938  23.703125  29.218750  27.734375  26.093750  24.507812  31.171875  32.648438  30.554688  28.757812  29.507812  26.523438  25.414062  27.687500  32.343750  32.750000  32.281250  33.156250  32.039062  32.992188  32.382812  31.859375  30.695312  34.554688  33.992188  33.500000  32.070312  35.187500  34.062500  29.562500  35.335938  32.484375  28.039062  27.937500  31.929688  28.132812  29.000000  33.796875  26.109375  27.257812  33.609375  34.226562 NaN  NaN  NaN  NaN \n",
      "2025-10-07 14:25:00+00:00  24.304688  23.703125  23.320312  23.039062  23.976562  24.695312  25.976562  25.171875  23.914062  23.234375  23.031250  23.390625  27.515625  27.218750  26.242188  25.039062  27.179688  25.984375  24.570312  23.632812  29.218750  27.718750  26.093750  24.460938  31.132812  32.648438  30.546875  28.765625  29.414062  26.484375  25.375000  27.617188  32.351562  32.757812  32.281250  33.156250  32.031250  32.968750  32.375000  31.851562  30.718750  34.562500  33.968750  33.468750  32.000000  35.117188  34.125000  29.539062  35.234375  32.367188  27.843750  27.765625  31.828125  28.125000  29.007812  33.734375  26.078125  27.132812  33.476562  34.070312 NaN  NaN  NaN  NaN \n"
     ]
    },
    {
     "name": "stderr",
     "output_type": "stream",
     "text": [
      "Generating frames…: 100%|██████████| 813/813 [01:17<00:00, 10.55it/s]\n"
     ]
    },
    {
     "name": "stdout",
     "output_type": "stream",
     "text": [
      "Writing video...\n"
     ]
    },
    {
     "name": "stderr",
     "output_type": "stream",
     "text": [
      "100%|██████████| 813/813 [00:01<00:00, 433.93it/s]"
     ]
    },
    {
     "name": "stdout",
     "output_type": "stream",
     "text": [
      "Video saved as latest_data.mp4\n"
     ]
    },
    {
     "name": "stderr",
     "output_type": "stream",
     "text": [
      "\n"
     ]
    }
   ],
   "source": [
    "if download_data:\n",
    "    # Downloading data\n",
    "    tmp_df = download_tmp_DB(bucket, start_ts, end_ts, data_res,filters)\n",
    "    print(f\"Downloaded {len(tmp_df)} data points from InfluxDB\")\n",
    "else:\n",
    "    tmp_df , _ = tu.readFromFile(data_path)\n",
    "    print(f\"Loaded {len(tmp_df)} data points from {data_path}\")\n",
    "\n",
    "if verbose:\n",
    "    print(f\"Temp dataframe with {tmp_df.shape[0]} rows:\")\n",
    "    print(tmp_df.head())\n",
    "    \n",
    "# Generate video\n",
    "tu.generateThermalVideo(tmp_df, video_name, fps, show_cb=show_cb, show_sensors=show_sensors, show_max_temp=show_max_temp, vmin=vmin, faulty_s=faulty_sensors, vmax=vmax)\n",
    "print(f\"Video saved as {video_name}.mp4\")\n"
   ]
  }
 ],
 "metadata": {
  "kernelspec": {
   "display_name": "imaging",
   "language": "python",
   "name": "python3"
  },
  "language_info": {
   "codemirror_mode": {
    "name": "ipython",
    "version": 3
   },
   "file_extension": ".py",
   "mimetype": "text/x-python",
   "name": "python",
   "nbconvert_exporter": "python",
   "pygments_lexer": "ipython3",
   "version": "3.11.0"
  }
 },
 "nbformat": 4,
 "nbformat_minor": 5
}
