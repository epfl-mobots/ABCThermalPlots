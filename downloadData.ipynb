{
 "cells": [
  {
   "cell_type": "markdown",
   "metadata": {},
   "source": [
    "# This nb is used to download data from influxdb into csv files"
   ]
  },
  {
   "cell_type": "markdown",
   "metadata": {},
   "source": [
    "## Imports"
   ]
  },
  {
   "cell_type": "code",
   "execution_count": null,
   "metadata": {},
   "outputs": [],
   "source": [
    "import time\n",
    "import pandas as pd\n",
    "from InfluxDBInterface.libdb import download_tmp_DB"
   ]
  },
  {
   "cell_type": "markdown",
   "metadata": {},
   "source": [
    "## Configuration"
   ]
  },
  {
   "cell_type": "code",
   "execution_count": null,
   "metadata": {},
   "outputs": [],
   "source": [
    "first_dt = \"2025-10-01T00:00:00Z\"\n",
    "last_dt = \"2025-10-06T10:30:00Z\"\n",
    "res = 120 # resolution in seconds.\n",
    "bucket = \"a_sensing\"\n",
    "filters = { # Measurement will be tmp by default, and fields will be all tmp sensors\n",
    "    \"hive_num\": 1,\n",
    "    \"inhive_loc\": \"lower\" # This is a required filter\n",
    "}\n",
    "filename = f\"{time.strftime('%Y-%m-%d_%H-%M')}_influxdb_data\"\n",
    "destination = \"data\"\n",
    "verbose = True"
   ]
  },
  {
   "cell_type": "markdown",
   "metadata": {},
   "source": [
    "## Querying"
   ]
  },
  {
   "cell_type": "code",
   "execution_count": null,
   "metadata": {},
   "outputs": [],
   "source": [
    "start_ts = pd.Timestamp(first_dt)\n",
    "end_ts = pd.Timestamp(last_dt)\n",
    "print(f\"Downloading data from {first_dt} to {last_dt} with a resolution of {res} seconds\")\n",
    "data = download_tmp_DB(bucket, start_ts, end_ts, res, filters, destination, filename, verbose)"
   ]
  }
 ],
 "metadata": {
  "kernelspec": {
   "display_name": "imaging",
   "language": "python",
   "name": "python3"
  },
  "language_info": {
   "codemirror_mode": {
    "name": "ipython",
    "version": 3
   },
   "file_extension": ".py",
   "mimetype": "text/x-python",
   "name": "python",
   "nbconvert_exporter": "python",
   "pygments_lexer": "ipython3",
   "version": "3.11.0"
  }
 },
 "nbformat": 4,
 "nbformat_minor": 2
}
