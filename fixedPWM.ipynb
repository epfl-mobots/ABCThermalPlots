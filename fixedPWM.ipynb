{
 "cells": [
  {
   "cell_type": "markdown",
   "id": "f5480ac0",
   "metadata": {},
   "source": [
    "# Notebook used to perform fixed pwm analysis"
   ]
  },
  {
   "cell_type": "markdown",
   "id": "b6185791",
   "metadata": {},
   "source": [
    "## Imports"
   ]
  },
  {
   "cell_type": "code",
   "execution_count": null,
   "id": "38c93f50",
   "metadata": {},
   "outputs": [],
   "source": [
    "from thermalframe import ThermalFrame\n",
    "from thermalutil import generateThermalVideo\n",
    "from InfluxDBInterface.libdb import download_tmp_DB\n",
    "\n",
    "import pandas as pd\n",
    "import matplotlib.pyplot as plt"
   ]
  },
  {
   "cell_type": "markdown",
   "id": "eae5e9be",
   "metadata": {},
   "source": [
    "## Configuration"
   ]
  },
  {
   "cell_type": "code",
   "execution_count": null,
   "id": "57072181",
   "metadata": {},
   "outputs": [],
   "source": [
    "# Start and duration of the 'experiments'\n",
    "dts = {\n",
    "    'square24': '2025-09-25T15:16:20Z',\n",
    "    'gauss24': '2025-09-25T15:37:20Z',\n",
    "    'slope24': '2025-09-25T15:54:00Z',\n",
    "    'square13': '2025-09-26T08:25:00Z',\n",
    "    'gauss13': '2025-09-26T08:46:00Z',\n",
    "    'slope13': '2025-09-26T09:45:00Z'\n",
    "}"
   ]
  },
  {
   "cell_type": "markdown",
   "id": "ad5fb2ff",
   "metadata": {},
   "source": [
    "## Downloading required data"
   ]
  },
  {
   "cell_type": "code",
   "execution_count": null,
   "id": "6a7c230b",
   "metadata": {},
   "outputs": [],
   "source": [
    "# Convert ts to pd.Timestamps\n",
    "for k in dts:\n",
    "    dts[k] = pd.Timestamp(dts[k])\n",
    "\n",
    "# Find the range of timestamps to download\n",
    "all_timestamps = list(dts.values())\n",
    "t_start = min(all_timestamps) - pd.Timedelta('10min')\n",
    "t_end = max(all_timestamps) + pd.Timedelta('30min')\n",
    "\n",
    "# Download data from InfluxDB\n",
    "filters = {'hive_num': 0, 'inhive_loc': 'none'}\n",
    "tmp_df = download_tmp_DB('meb_dev', t_start, t_end, 20, filters)\n",
    "print(f\"Downloaded tmp data from Influx DB from {t_start} to {t_end} with {len(tmp_df)} entries.\")\n",
    "print(tmp_df.head())\n",
    "print(tmp_df.shape)\n",
    "\n",
    "# Make a plot with dots where we have data\n",
    "fig, ax = plt.subplots(1, 1, figsize=(10, 2))\n",
    "ax.scatter(tmp_df.index, [1] * len(tmp_df), s=1)\n",
    "ax.set_xlabel('Time')\n",
    "ax.set_title('Temperature Data Availability')\n",
    "ax.set_yticks([0, 1])\n",
    "plt.show()"
   ]
  },
  {
   "cell_type": "markdown",
   "id": "8d66e15c",
   "metadata": {},
   "source": [
    "## Plotting"
   ]
  },
  {
   "cell_type": "code",
   "execution_count": null,
   "id": "afafb181",
   "metadata": {},
   "outputs": [],
   "source": [
    "square24_df = tmp_df.loc[dts['square24']+pd.Timedelta('10min')]\n",
    "\n",
    "square_24 = square24_df.to_numpy()\n",
    "tf = ThermalFrame(square_24, hive_id=0)\n",
    "fig, ax = plt.subplots(figsize=(9, 5))\n",
    "ax = tf.plot_thermal_field(ax=ax,\n",
    "                           show_cb=True,\n",
    "                           show_max_temp=True, \n",
    "                           show_sensors=True)\n",
    "plt.show()"
   ]
  },
  {
   "cell_type": "markdown",
   "id": "e17e3e6d",
   "metadata": {},
   "source": [
    "## Video generation"
   ]
  },
  {
   "cell_type": "code",
   "execution_count": null,
   "id": "8b7b33ac",
   "metadata": {},
   "outputs": [],
   "source": [
    "# Now we make videos for all 6 exps\n",
    "duration = ['22min', '16min', '30min', '21min', '21min', '25min']\n",
    "for i, (key, value) in enumerate(dts.items()):\n",
    "    print(f\"----Generating video for {key}----\")\n",
    "    df_therm_data = tmp_df.loc[value:value+pd.Timedelta(duration[i]),:]\n",
    "    generateThermalVideo(df_therm_data, key, \"outputVideos/fixedPWM\", \n",
    "                            fps=10, \n",
    "                            show_cb=True,\n",
    "                            show_sensors=True,\n",
    "                            show_max_temp=True,\n",
    "                            verbose=False)\n"
   ]
  }
 ],
 "metadata": {
  "kernelspec": {
   "display_name": "imaging",
   "language": "python",
   "name": "python3"
  },
  "language_info": {
   "codemirror_mode": {
    "name": "ipython",
    "version": 3
   },
   "file_extension": ".py",
   "mimetype": "text/x-python",
   "name": "python",
   "nbconvert_exporter": "python",
   "pygments_lexer": "ipython3",
   "version": "3.11.0"
  }
 },
 "nbformat": 4,
 "nbformat_minor": 5
}
